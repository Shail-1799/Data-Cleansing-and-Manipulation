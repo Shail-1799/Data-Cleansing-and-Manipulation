{
 "cells": [
  {
   "cell_type": "code",
   "execution_count": 1,
   "id": "586c85af",
   "metadata": {},
   "outputs": [],
   "source": [
    "import numpy as np\n",
    "import pandas as pd"
   ]
  },
  {
   "cell_type": "code",
   "execution_count": 2,
   "id": "55ca1a66",
   "metadata": {},
   "outputs": [
    {
     "data": {
      "text/html": [
       "<div>\n",
       "<style scoped>\n",
       "    .dataframe tbody tr th:only-of-type {\n",
       "        vertical-align: middle;\n",
       "    }\n",
       "\n",
       "    .dataframe tbody tr th {\n",
       "        vertical-align: top;\n",
       "    }\n",
       "\n",
       "    .dataframe thead th {\n",
       "        text-align: right;\n",
       "    }\n",
       "</style>\n",
       "<table border=\"1\" class=\"dataframe\">\n",
       "  <thead>\n",
       "    <tr style=\"text-align: right;\">\n",
       "      <th></th>\n",
       "      <th>variant_id</th>\n",
       "      <th>title_long</th>\n",
       "      <th>product_type</th>\n",
       "      <th>handle</th>\n",
       "      <th>color</th>\n",
       "      <th>store_name</th>\n",
       "    </tr>\n",
       "  </thead>\n",
       "  <tbody>\n",
       "    <tr>\n",
       "      <th>0</th>\n",
       "      <td>10001</td>\n",
       "      <td>Abstract Green Jacquard Woven Design Saree Wit...</td>\n",
       "      <td>Silk saree</td>\n",
       "      <td>abstract-green-jacquard-woven-design-saree-wit...</td>\n",
       "      <td>NaN</td>\n",
       "      <td>Store_A</td>\n",
       "    </tr>\n",
       "    <tr>\n",
       "      <th>1</th>\n",
       "      <td>10002</td>\n",
       "      <td>Abstract leopard Print Satin Crepe Trendy Sare...</td>\n",
       "      <td>NaN</td>\n",
       "      <td>abstract-leopard-print-satin-crepe-trendy-sare...</td>\n",
       "      <td>NaN</td>\n",
       "      <td>Store_A</td>\n",
       "    </tr>\n",
       "    <tr>\n",
       "      <th>2</th>\n",
       "      <td>10003</td>\n",
       "      <td>Abstract leopard Print Satin Crepe Trendy Sare...</td>\n",
       "      <td>NaN</td>\n",
       "      <td>abstract-leopard-print-satin-crepe-trendy-sare...</td>\n",
       "      <td>NaN</td>\n",
       "      <td>Store_A</td>\n",
       "    </tr>\n",
       "    <tr>\n",
       "      <th>3</th>\n",
       "      <td>10004</td>\n",
       "      <td>Abstract Print Satin Crepe Trendy Saree in Bab...</td>\n",
       "      <td>NaN</td>\n",
       "      <td>abstract-print-satin-crepe-trendy-saree-in-bab...</td>\n",
       "      <td>NaN</td>\n",
       "      <td>Store_A</td>\n",
       "    </tr>\n",
       "    <tr>\n",
       "      <th>4</th>\n",
       "      <td>10005</td>\n",
       "      <td>Abstract Print Satin Crepe Trendy Saree in Bla...</td>\n",
       "      <td>NaN</td>\n",
       "      <td>causal-wear-abstract-print-satin-crepe-saree-i...</td>\n",
       "      <td>NaN</td>\n",
       "      <td>Store_A</td>\n",
       "    </tr>\n",
       "    <tr>\n",
       "      <th>...</th>\n",
       "      <td>...</td>\n",
       "      <td>...</td>\n",
       "      <td>...</td>\n",
       "      <td>...</td>\n",
       "      <td>...</td>\n",
       "      <td>...</td>\n",
       "    </tr>\n",
       "    <tr>\n",
       "      <th>5115</th>\n",
       "      <td>15116</td>\n",
       "      <td>Bhroad Black Tank Top</td>\n",
       "      <td>Tank Top</td>\n",
       "      <td>tank-top-bhroad-black</td>\n",
       "      <td>NaN</td>\n",
       "      <td>Store_G</td>\n",
       "    </tr>\n",
       "    <tr>\n",
       "      <th>5116</th>\n",
       "      <td>15117</td>\n",
       "      <td>Bhroad Tank Top</td>\n",
       "      <td>Tank Top</td>\n",
       "      <td>tank-top-bhroad</td>\n",
       "      <td>NaN</td>\n",
       "      <td>Store_G</td>\n",
       "    </tr>\n",
       "    <tr>\n",
       "      <th>5117</th>\n",
       "      <td>15118</td>\n",
       "      <td>Black Roots Tank Top</td>\n",
       "      <td>Tank Top</td>\n",
       "      <td>tank-top-black-roots</td>\n",
       "      <td>NaN</td>\n",
       "      <td>Store_G</td>\n",
       "    </tr>\n",
       "    <tr>\n",
       "      <th>5118</th>\n",
       "      <td>15119</td>\n",
       "      <td>Black Sign Tank Top</td>\n",
       "      <td>Tank Top</td>\n",
       "      <td>tank-top-black-sign</td>\n",
       "      <td>NaN</td>\n",
       "      <td>Store_G</td>\n",
       "    </tr>\n",
       "    <tr>\n",
       "      <th>5119</th>\n",
       "      <td>15120</td>\n",
       "      <td>Black Sign TTB Tank Top</td>\n",
       "      <td>Tank Top</td>\n",
       "      <td>tank-top-black-sign-ttb</td>\n",
       "      <td>NaN</td>\n",
       "      <td>Store_G</td>\n",
       "    </tr>\n",
       "  </tbody>\n",
       "</table>\n",
       "<p>5120 rows × 6 columns</p>\n",
       "</div>"
      ],
      "text/plain": [
       "      variant_id                                         title_long  \\\n",
       "0          10001  Abstract Green Jacquard Woven Design Saree Wit...   \n",
       "1          10002  Abstract leopard Print Satin Crepe Trendy Sare...   \n",
       "2          10003  Abstract leopard Print Satin Crepe Trendy Sare...   \n",
       "3          10004  Abstract Print Satin Crepe Trendy Saree in Bab...   \n",
       "4          10005  Abstract Print Satin Crepe Trendy Saree in Bla...   \n",
       "...          ...                                                ...   \n",
       "5115       15116                              Bhroad Black Tank Top   \n",
       "5116       15117                                    Bhroad Tank Top   \n",
       "5117       15118                               Black Roots Tank Top   \n",
       "5118       15119                                Black Sign Tank Top   \n",
       "5119       15120                            Black Sign TTB Tank Top   \n",
       "\n",
       "     product_type                                             handle  color  \\\n",
       "0      Silk saree  abstract-green-jacquard-woven-design-saree-wit...    NaN   \n",
       "1             NaN  abstract-leopard-print-satin-crepe-trendy-sare...    NaN   \n",
       "2             NaN  abstract-leopard-print-satin-crepe-trendy-sare...    NaN   \n",
       "3             NaN  abstract-print-satin-crepe-trendy-saree-in-bab...    NaN   \n",
       "4             NaN  causal-wear-abstract-print-satin-crepe-saree-i...    NaN   \n",
       "...           ...                                                ...    ...   \n",
       "5115     Tank Top                              tank-top-bhroad-black    NaN   \n",
       "5116     Tank Top                                    tank-top-bhroad    NaN   \n",
       "5117     Tank Top                               tank-top-black-roots    NaN   \n",
       "5118     Tank Top                                tank-top-black-sign    NaN   \n",
       "5119     Tank Top                            tank-top-black-sign-ttb    NaN   \n",
       "\n",
       "     store_name  \n",
       "0       Store_A  \n",
       "1       Store_A  \n",
       "2       Store_A  \n",
       "3       Store_A  \n",
       "4       Store_A  \n",
       "...         ...  \n",
       "5115    Store_G  \n",
       "5116    Store_G  \n",
       "5117    Store_G  \n",
       "5118    Store_G  \n",
       "5119    Store_G  \n",
       "\n",
       "[5120 rows x 6 columns]"
      ]
     },
     "execution_count": 2,
     "metadata": {},
     "output_type": "execute_result"
    }
   ],
   "source": [
    "df = pd.read_csv(\"Data.csv\")\n",
    "df"
   ]
  },
  {
   "cell_type": "markdown",
   "id": "8117c6f2",
   "metadata": {},
   "source": [
    "# Task 1 - Cleaning product_type Column"
   ]
  },
  {
   "cell_type": "code",
   "execution_count": 3,
   "id": "ac660b9e",
   "metadata": {},
   "outputs": [
    {
     "data": {
      "text/plain": [
       "variant_id         0\n",
       "title_long         0\n",
       "product_type    2269\n",
       "handle             0\n",
       "color           5120\n",
       "store_name         0\n",
       "dtype: int64"
      ]
     },
     "execution_count": 3,
     "metadata": {},
     "output_type": "execute_result"
    }
   ],
   "source": [
    "df.isnull().sum()"
   ]
  },
  {
   "cell_type": "code",
   "execution_count": 4,
   "id": "b2710823",
   "metadata": {},
   "outputs": [
    {
     "data": {
      "text/plain": [
       "array(['Silk saree', nan, 'Saris & Lehengas', 'Sunglasses',\n",
       "       'Automatic Watch', 'Pajama Set', 'Sleepsuit', 'Top & Shorts Set',\n",
       "       'Half Sleeve Onesie', 'T-Shirt', 'Full Sleeve Onesie',\n",
       "       'ActiveCub Co-ords', 'Joggers', 'Sweatshirts', 'Topwear', 'Dress',\n",
       "       'Saree', 'Bottomwear', 'Outerwear', 'Gift Cards', 'Sneakers',\n",
       "       'T-shirt', 'Sliders', 'Face Mask', 'Loafers', 'Shoes', 'Socks',\n",
       "       'Bangles', 'Anklets', 'Jewellery Sets', 'Bracelets', 'Rings',\n",
       "       'Earrings', 'Hair Accessories', 'Mangalsutra', 'Necklace',\n",
       "       'Maang Tikka', 'Nose Pins', \"Women's Tank Tops\", 'Tank Top'],\n",
       "      dtype=object)"
      ]
     },
     "execution_count": 4,
     "metadata": {},
     "output_type": "execute_result"
    }
   ],
   "source": [
    "df.product_type.unique()"
   ]
  },
  {
   "cell_type": "code",
   "execution_count": 5,
   "id": "d4f04bcf",
   "metadata": {},
   "outputs": [
    {
     "data": {
      "text/plain": [
       "Sunglasses            384\n",
       "Sneakers              376\n",
       "Pajama Set            329\n",
       "Dress                 322\n",
       "Sleepsuit             280\n",
       "Top & Shorts Set      194\n",
       "Loafers               130\n",
       "Topwear               122\n",
       "Bottomwear             89\n",
       "Saree                  60\n",
       "Shoes                  57\n",
       "Saris & Lehengas       52\n",
       "Jewellery Sets         48\n",
       "Automatic Watch        42\n",
       "Bracelets              41\n",
       "Half Sleeve Onesie     35\n",
       "T-Shirt                35\n",
       "Sliders                28\n",
       "Full Sleeve Onesie     28\n",
       "Earrings               21\n",
       "Joggers                20\n",
       "ActiveCub Co-ords      20\n",
       "Sweatshirts            20\n",
       "Maang Tikka            16\n",
       "Tank Top               15\n",
       "Outerwear              15\n",
       "Bangles                11\n",
       "Rings                   9\n",
       "Women's Tank Tops       9\n",
       "Face Mask               8\n",
       "Mangalsutra             8\n",
       "Socks                   6\n",
       "T-shirt                 5\n",
       "Gift Cards              5\n",
       "Hair Accessories        3\n",
       "Nose Pins               3\n",
       "Anklets                 2\n",
       "Silk saree              2\n",
       "Necklace                1\n",
       "Name: product_type, dtype: int64"
      ]
     },
     "execution_count": 5,
     "metadata": {},
     "output_type": "execute_result"
    }
   ],
   "source": [
    "df.product_type.value_counts()"
   ]
  },
  {
   "cell_type": "code",
   "execution_count": 6,
   "id": "db4519d0",
   "metadata": {},
   "outputs": [
    {
     "data": {
      "text/plain": [
       "39"
      ]
     },
     "execution_count": 6,
     "metadata": {},
     "output_type": "execute_result"
    }
   ],
   "source": [
    "df.product_type.nunique()"
   ]
  },
  {
   "cell_type": "code",
   "execution_count": 7,
   "id": "22d62fee",
   "metadata": {},
   "outputs": [],
   "source": [
    "# converting to lower case to handle unique values for T-Shirt and T-shirt\n",
    "df.product_type.str.lower().nunique()\n",
    "df.product_type = df.product_type.str.lower()"
   ]
  },
  {
   "cell_type": "code",
   "execution_count": 11,
   "id": "49b0dbf0",
   "metadata": {},
   "outputs": [],
   "source": [
    "# replacing values to handle unique values for tank top and saree\n",
    "df.product_type = df.product_type.replace([\"women's tank tops\", \"saris & lehengas\"],[\"tank top\", \"sarees & lehengas\"])"
   ]
  },
  {
   "cell_type": "code",
   "execution_count": 12,
   "id": "b4a460d1",
   "metadata": {},
   "outputs": [
    {
     "data": {
      "text/plain": [
       "array(['silk saree', nan, 'sarees & lehengas', 'sunglasses',\n",
       "       'automatic watch', 'pajama set', 'sleepsuit', 'top & shorts set',\n",
       "       'half sleeve onesie', 't-shirt', 'full sleeve onesie',\n",
       "       'activecub co-ords', 'joggers', 'sweatshirts', 'topwear', 'dress',\n",
       "       'saree', 'bottomwear', 'outerwear', 'gift cards', 'sneakers',\n",
       "       'sliders', 'face mask', 'loafers', 'shoes', 'socks', 'bangles',\n",
       "       'anklets', 'jewellery sets', 'bracelets', 'rings', 'earrings',\n",
       "       'hair accessories', 'mangalsutra', 'necklace', 'maang tikka',\n",
       "       'nose pins', 'tank top'], dtype=object)"
      ]
     },
     "execution_count": 12,
     "metadata": {},
     "output_type": "execute_result"
    }
   ],
   "source": [
    "df.product_type.unique()\n"
   ]
  },
  {
   "cell_type": "code",
   "execution_count": 13,
   "id": "ca9c76a3",
   "metadata": {},
   "outputs": [
    {
     "data": {
      "text/html": [
       "<div>\n",
       "<style scoped>\n",
       "    .dataframe tbody tr th:only-of-type {\n",
       "        vertical-align: middle;\n",
       "    }\n",
       "\n",
       "    .dataframe tbody tr th {\n",
       "        vertical-align: top;\n",
       "    }\n",
       "\n",
       "    .dataframe thead th {\n",
       "        text-align: right;\n",
       "    }\n",
       "</style>\n",
       "<table border=\"1\" class=\"dataframe\">\n",
       "  <thead>\n",
       "    <tr style=\"text-align: right;\">\n",
       "      <th></th>\n",
       "      <th>product_type</th>\n",
       "    </tr>\n",
       "  </thead>\n",
       "  <tbody>\n",
       "    <tr>\n",
       "      <th>239</th>\n",
       "      <td>SARIS</td>\n",
       "    </tr>\n",
       "    <tr>\n",
       "      <th>240</th>\n",
       "      <td>Saris</td>\n",
       "    </tr>\n",
       "    <tr>\n",
       "      <th>241</th>\n",
       "      <td>SAREES</td>\n",
       "    </tr>\n",
       "    <tr>\n",
       "      <th>242</th>\n",
       "      <td>Sarees</td>\n",
       "    </tr>\n",
       "    <tr>\n",
       "      <th>243</th>\n",
       "      <td>sarees</td>\n",
       "    </tr>\n",
       "  </tbody>\n",
       "</table>\n",
       "</div>"
      ],
      "text/plain": [
       "    product_type\n",
       "239        SARIS\n",
       "240        Saris\n",
       "241       SAREES\n",
       "242       Sarees\n",
       "243       sarees"
      ]
     },
     "execution_count": 13,
     "metadata": {},
     "output_type": "execute_result"
    }
   ],
   "source": [
    "product_df = pd.read_csv(\"All Products.csv\")\n",
    "product_df.tail()\n",
    "\n"
   ]
  },
  {
   "cell_type": "code",
   "execution_count": 14,
   "id": "0c69069a",
   "metadata": {},
   "outputs": [
    {
     "name": "stderr",
     "output_type": "stream",
     "text": [
      "C:\\Users\\DELL\\AppData\\Local\\Temp\\ipykernel_8200\\3735466313.py:4: SettingWithCopyWarning: \n",
      "A value is trying to be set on a copy of a slice from a DataFrame\n",
      "\n",
      "See the caveats in the documentation: https://pandas.pydata.org/pandas-docs/stable/user_guide/indexing.html#returning-a-view-versus-a-copy\n",
      "  df.product_type.iloc[i] = (\" \").join(p)\n"
     ]
    }
   ],
   "source": [
    "for i in range(df.shape[0]):\n",
    "    \n",
    "    p = [s for s in df.title_long.iloc[i].split(\" \") if s in product_df.product_type.values]\n",
    "    df.product_type.iloc[i] = (\" \").join(p)"
   ]
  },
  {
   "cell_type": "code",
   "execution_count": 15,
   "id": "4e723559",
   "metadata": {},
   "outputs": [
    {
     "data": {
      "text/plain": [
       "143"
      ]
     },
     "execution_count": 15,
     "metadata": {},
     "output_type": "execute_result"
    }
   ],
   "source": [
    "df.product_type.nunique()"
   ]
  },
  {
   "cell_type": "code",
   "execution_count": 16,
   "id": "9c45a29e",
   "metadata": {},
   "outputs": [
    {
     "data": {
      "text/plain": [
       "array(['Saree Blouse', 'Satin Saree', 'Silk saree Blouse',\n",
       "       'Silk Saree Blouse', 'Silk border', 'Silk Saree', 'Saree',\n",
       "       'silk saree', 'Silk Saree Border', 'Silk blouse',\n",
       "       'Silk Saree Border Blouse', 'Linen Silk Saree Blouse',\n",
       "       'Linen Border Saree', 'Cotton Saree', 'Silk Border Saree',\n",
       "       'Border Saree', 'Linen Silk Sarees Border', 'silk Saree border',\n",
       "       'Linen Silk Saree', 'Silk Saree blouse', 'Silk Sari Blouse',\n",
       "       'Silk Saree border', 'Linen Saree', 'saree', 'Linen Cotton Saree',\n",
       "       'silk Border Saree', 'Linen Silk Saree Border Blouse',\n",
       "       'Linen Saree Saree', 'Saree Border', 'Satin Silk Sarees Blouse',\n",
       "       'Linen Border patti', 'Border Saree Blouse', 'Linen Cotton saree',\n",
       "       'silk Saree', 'Border Blouse', 'Border Silk Saree Blouse',\n",
       "       'Cotton Silk Saree Blouse', 'Linen saree', 'Silk saree',\n",
       "       'Linen Silk Saree Border', 'Silk', 'Saree Saree',\n",
       "       'Cotton Linen Saree', 'Cotton Silk Saree', 'Border Silk Saree',\n",
       "       'Saree blouse', 'Silk Sarees', 'Silk Sarees Border',\n",
       "       'Linen silk Saree', 'Linen Saree border', 'Dupatta',\n",
       "       'silk saree blouse', 'linen Saree', 'Silk Saree border blouse',\n",
       "       'Silk Saree Border blouse', 'Saree Saree Blouse',\n",
       "       'Silk Saree Half Sleeve Blouse', '', 'Linen Saree Border Saree',\n",
       "       'Sunglasses', 'sunglasses', 'Automatic Watch', 'Pajama Set',\n",
       "       'Sleepsuit', 'Sets Top Shorts', 'Top Shorts Set',\n",
       "       'Half Sleeve Onesie', 'T-Shirt', 'Full Sleeve Onesie',\n",
       "       'Full Sleeve Pajama Set', 'Co-ord Set', 'Joggers', 'Sweatshirt',\n",
       "       'Romper', 'Dress', 'Shirt Dress', 'Top', 'Culotte', 'Skirt',\n",
       "       'Kurta', 'Co-ords', 'Wrap Skirt', 'Pallazo', 'Jacket',\n",
       "       'Midi Skirt', 'Gift Card', 'Shrug', 'Jumpsuit', 'Kaftan', 'Tunic',\n",
       "       'Maxi', 'Shirt', 'Pants', 'Dress Pants Set', 'Summer',\n",
       "       'Summer Set', 'Set', 'Summer Maxi Dress', 'Wrap Dress', 'Shorts',\n",
       "       'Blouse', 'Sneakers', 'Sliders', 'Face Mask', 'Trainers',\n",
       "       'Linen Sneakers', 'Loafers', 'Socks', 'Bangle', 'Necklace',\n",
       "       'Necklaces', 'Bangle Set', 'Bracelets', 'Jewellery Set', 'Ring',\n",
       "       'Earrings', 'Set Bangles', 'Set Bangles Set', 'Bracelet',\n",
       "       'Earring', 'Hair Set', 'Mangalsutra Earrings Set', 'Mangalsutra',\n",
       "       'Bangle Bracelet', 'Mangalsutra Set', 'Jewellery Sets Ring',\n",
       "       'Maang Tikka', 'Mangalsutra Set Earrings', 'Half Earrings',\n",
       "       'Necklace Set', 'Jewellery Set Bracelets Ring', 'Nose Ring',\n",
       "       'Set Bangle', 'Earring Set', 'Nosepin', 'Hair Accessories',\n",
       "       'Accessories', 'Matha Pathi', 'MaangTikka',\n",
       "       'Maang Tikka Earring Set', 'Mathapatti', 'Tank', 'Tank Top'],\n",
       "      dtype=object)"
      ]
     },
     "execution_count": 16,
     "metadata": {},
     "output_type": "execute_result"
    }
   ],
   "source": [
    "df.product_type.unique()"
   ]
  },
  {
   "cell_type": "code",
   "execution_count": 19,
   "id": "98b20df6",
   "metadata": {},
   "outputs": [],
   "source": [
    "df.product_type = df.product_type.str.lower()"
   ]
  },
  {
   "cell_type": "code",
   "execution_count": 20,
   "id": "a29b97ae",
   "metadata": {},
   "outputs": [
    {
     "data": {
      "text/plain": [
       "125"
      ]
     },
     "execution_count": 20,
     "metadata": {},
     "output_type": "execute_result"
    }
   ],
   "source": [
    "df.product_type.nunique()"
   ]
  },
  {
   "cell_type": "code",
   "execution_count": 21,
   "id": "ccf986de",
   "metadata": {},
   "outputs": [
    {
     "data": {
      "text/plain": [
       "array(['saree blouse', 'satin saree', 'silk saree blouse', 'silk border',\n",
       "       'silk saree', 'saree', 'silk saree border', 'silk blouse',\n",
       "       'silk saree border blouse', 'linen silk saree blouse',\n",
       "       'linen border saree', 'cotton saree', 'silk border saree',\n",
       "       'border saree', 'linen silk sarees border', 'linen silk saree',\n",
       "       'silk sari blouse', 'linen saree', 'linen cotton saree',\n",
       "       'linen silk saree border blouse', 'linen saree saree',\n",
       "       'saree border', 'satin silk sarees blouse', 'linen border patti',\n",
       "       'border saree blouse', 'border blouse', 'border silk saree blouse',\n",
       "       'cotton silk saree blouse', 'linen silk saree border', 'silk',\n",
       "       'saree saree', 'cotton linen saree', 'cotton silk saree',\n",
       "       'border silk saree', 'silk sarees', 'silk sarees border',\n",
       "       'linen saree border', 'dupatta', 'saree saree blouse',\n",
       "       'silk saree half sleeve blouse', '', 'linen saree border saree',\n",
       "       'sunglasses', 'automatic watch', 'pajama set', 'sleepsuit',\n",
       "       'sets top shorts', 'top shorts set', 'half sleeve onesie',\n",
       "       't-shirt', 'full sleeve onesie', 'full sleeve pajama set',\n",
       "       'co-ord set', 'joggers', 'sweatshirt', 'romper', 'dress',\n",
       "       'shirt dress', 'top', 'culotte', 'skirt', 'kurta', 'co-ords',\n",
       "       'wrap skirt', 'pallazo', 'jacket', 'midi skirt', 'gift card',\n",
       "       'shrug', 'jumpsuit', 'kaftan', 'tunic', 'maxi', 'shirt', 'pants',\n",
       "       'dress pants set', 'summer', 'summer set', 'set',\n",
       "       'summer maxi dress', 'wrap dress', 'shorts', 'blouse', 'sneakers',\n",
       "       'sliders', 'face mask', 'trainers', 'linen sneakers', 'loafers',\n",
       "       'socks', 'bangle', 'necklace', 'necklaces', 'bangle set',\n",
       "       'bracelets', 'jewellery set', 'ring', 'earrings', 'set bangles',\n",
       "       'set bangles set', 'bracelet', 'earring', 'hair set',\n",
       "       'mangalsutra earrings set', 'mangalsutra', 'bangle bracelet',\n",
       "       'mangalsutra set', 'jewellery sets ring', 'maang tikka',\n",
       "       'mangalsutra set earrings', 'half earrings', 'necklace set',\n",
       "       'jewellery set bracelets ring', 'nose ring', 'set bangle',\n",
       "       'earring set', 'nosepin', 'hair accessories', 'accessories',\n",
       "       'matha pathi', 'maangtikka', 'maang tikka earring set',\n",
       "       'mathapatti', 'tank', 'tank top'], dtype=object)"
      ]
     },
     "execution_count": 21,
     "metadata": {},
     "output_type": "execute_result"
    }
   ],
   "source": [
    "df.product_type.unique()"
   ]
  },
  {
   "cell_type": "code",
   "execution_count": 25,
   "id": "3a95d223",
   "metadata": {},
   "outputs": [],
   "source": [
    "before = list(df.product_type.unique())\n"
   ]
  },
  {
   "cell_type": "code",
   "execution_count": 26,
   "id": "aed8aacb",
   "metadata": {},
   "outputs": [],
   "source": [
    "after = ['saree with blouse', 'satin saree', 'silk saree with blouse', 'silk with border',\n",
    "       'silk saree', 'saree', 'silk saree with border', 'silk blouse',\n",
    "       'silk saree with border and blouse', 'linen silk saree with blouse',\n",
    "       'linen saree with border', 'cotton saree', 'silk saree with border',\n",
    "       'saree with border', 'linen silk saree with border', 'linen silk saree',\n",
    "       'silk saree with blouse', 'linen saree', 'linen cotton saree',\n",
    "       'linen silk saree with border and blouse', 'linen saree',\n",
    "       'saree with border', 'satin silk sarees with blouse', 'linen border patti',\n",
    "       'saree with border and blouse', 'border with blouse', 'silk saree with border and blouse',\n",
    "       'cotton silk saree with blouse', 'linen silk saree with border', 'silk',\n",
    "       'saree', 'cotton linen saree', 'cotton silk saree',\n",
    "       'silk saree with border', 'silk saree', 'silk saree with border',\n",
    "       'linen saree border', 'dupatta', 'saree with blouse',\n",
    "       'silk saree with half sleeve blouse', 'misc', 'linen saree with border',\n",
    "       'sunglasses', 'automatic watch', 'pajama set', 'sleepsuit',\n",
    "       'top & shorts set', 'top & shorts set', 'half sleeve onesie',\n",
    "       't-shirt', 'full sleeve onesie', 'full sleeve pajama set',\n",
    "       'co-ord sets', 'joggers', 'sweatshirt', 'romper', 'dress',\n",
    "       'shirt dress', 'tops', 'culotte', 'skirt', 'kurta', 'co-ord sets',\n",
    "       'wrap skirt', 'pallazo', 'jacket', 'midi skirt', 'gift card',\n",
    "       'shrug', 'jumpsuit', 'kaftan', 'tunic', 'maxi', 'shirt', 'pants',\n",
    "       'dress & pants set', 'misc', 'summer set', 'misc',\n",
    "       'summer maxi dress', 'wrap dress', 'shorts', 'blouse', 'sneakers',\n",
    "       'sliders', 'face mask', 'trainers', 'linen sneakers', 'loafers',\n",
    "       'socks', 'bangle', 'necklace', 'necklace', 'bangle set',\n",
    "       'bracelets', 'jewellery set', 'ring', 'earrings', 'bangle set',\n",
    "       'bangle set', 'bracelet', 'earrings', 'hair set',\n",
    "       'mangalsutra & earrings set', 'mangalsutra', 'bangle & bracelet',\n",
    "       'mangalsutra set', 'jewellery set with ring', 'maangtikka',\n",
    "       'mangalsutra set with earrings', 'earrings', 'necklace set',\n",
    "       'jewellery set with bracelets and ring', 'nose ring', 'bangle set',\n",
    "       'earrings set', 'nose pin', 'hair accessories', 'hair accessories',\n",
    "       'mathapatti', 'maangtikka', 'maang tikka and earrings set',\n",
    "       'mathapatti', 'tank tops', 'tank tops']\n"
   ]
  },
  {
   "cell_type": "code",
   "execution_count": 29,
   "id": "3d88f318",
   "metadata": {},
   "outputs": [],
   "source": [
    "df.product_type = df.product_type.replace(before, after)"
   ]
  },
  {
   "cell_type": "code",
   "execution_count": 30,
   "id": "59fa177a",
   "metadata": {},
   "outputs": [
    {
     "data": {
      "text/plain": [
       "99"
      ]
     },
     "execution_count": 30,
     "metadata": {},
     "output_type": "execute_result"
    }
   ],
   "source": [
    "df.product_type.nunique()"
   ]
  },
  {
   "cell_type": "code",
   "execution_count": 31,
   "id": "eea6781e",
   "metadata": {},
   "outputs": [
    {
     "data": {
      "text/plain": [
       "array(['saree with blouse', 'satin saree', 'silk saree with blouse',\n",
       "       'silk with border', 'silk saree', 'saree',\n",
       "       'silk saree with border', 'silk blouse',\n",
       "       'silk saree with border and blouse',\n",
       "       'linen silk saree with blouse', 'linen saree with border',\n",
       "       'cotton saree', 'saree with border',\n",
       "       'linen silk saree with border', 'linen silk saree', 'linen saree',\n",
       "       'linen cotton saree', 'linen silk saree with border and blouse',\n",
       "       'satin silk sarees with blouse', 'linen border patti',\n",
       "       'saree with border and blouse', 'border with blouse',\n",
       "       'cotton silk saree with blouse', 'silk', 'cotton linen saree',\n",
       "       'cotton silk saree', 'linen saree border', 'dupatta',\n",
       "       'silk saree with half sleeve blouse', 'misc', 'sunglasses',\n",
       "       'automatic watch', 'pajama set', 'sleepsuit', 'top & shorts set',\n",
       "       'half sleeve onesie', 't-shirt', 'full sleeve onesie',\n",
       "       'full sleeve pajama set', 'co-ord sets', 'joggers', 'sweatshirt',\n",
       "       'romper', 'dress', 'shirt dress', 'tops', 'culotte', 'skirt',\n",
       "       'kurta', 'wrap skirt', 'pallazo', 'jacket', 'midi skirt',\n",
       "       'gift card', 'shrug', 'jumpsuit', 'kaftan', 'tunic', 'maxi',\n",
       "       'shirt', 'pants', 'dress & pants set', 'summer set',\n",
       "       'summer maxi dress', 'wrap dress', 'shorts', 'blouse', 'sneakers',\n",
       "       'sliders', 'face mask', 'trainers', 'linen sneakers', 'loafers',\n",
       "       'socks', 'bangle', 'necklace', 'bangle set', 'bracelets',\n",
       "       'jewellery set', 'ring', 'earrings', 'bracelet', 'hair set',\n",
       "       'mangalsutra & earrings set', 'mangalsutra', 'bangle & bracelet',\n",
       "       'mangalsutra set', 'jewellery set with ring', 'maangtikka',\n",
       "       'mangalsutra set with earrings', 'necklace set',\n",
       "       'jewellery set with bracelets and ring', 'nose ring',\n",
       "       'earrings set', 'nose pin', 'hair accessories', 'mathapatti',\n",
       "       'maang tikka and earrings set', 'tank tops'], dtype=object)"
      ]
     },
     "execution_count": 31,
     "metadata": {},
     "output_type": "execute_result"
    }
   ],
   "source": [
    "df.product_type.unique()"
   ]
  },
  {
   "cell_type": "markdown",
   "id": "f5d6cea0",
   "metadata": {},
   "source": [
    "# Task 2 -  Adding the Color Values to color Column"
   ]
  },
  {
   "cell_type": "code",
   "execution_count": 33,
   "id": "9c4833e7",
   "metadata": {},
   "outputs": [
    {
     "data": {
      "text/html": [
       "<div>\n",
       "<style scoped>\n",
       "    .dataframe tbody tr th:only-of-type {\n",
       "        vertical-align: middle;\n",
       "    }\n",
       "\n",
       "    .dataframe tbody tr th {\n",
       "        vertical-align: top;\n",
       "    }\n",
       "\n",
       "    .dataframe thead th {\n",
       "        text-align: right;\n",
       "    }\n",
       "</style>\n",
       "<table border=\"1\" class=\"dataframe\">\n",
       "  <thead>\n",
       "    <tr style=\"text-align: right;\">\n",
       "      <th></th>\n",
       "      <th>color_name</th>\n",
       "    </tr>\n",
       "  </thead>\n",
       "  <tbody>\n",
       "    <tr>\n",
       "      <th>0</th>\n",
       "      <td>Beige</td>\n",
       "    </tr>\n",
       "    <tr>\n",
       "      <th>1</th>\n",
       "      <td>Black</td>\n",
       "    </tr>\n",
       "    <tr>\n",
       "      <th>2</th>\n",
       "      <td>Blue</td>\n",
       "    </tr>\n",
       "    <tr>\n",
       "      <th>3</th>\n",
       "      <td>Blue-gray</td>\n",
       "    </tr>\n",
       "    <tr>\n",
       "      <th>4</th>\n",
       "      <td>Blue-violet</td>\n",
       "    </tr>\n",
       "    <tr>\n",
       "      <th>...</th>\n",
       "      <td>...</td>\n",
       "    </tr>\n",
       "    <tr>\n",
       "      <th>293</th>\n",
       "      <td>grey</td>\n",
       "    </tr>\n",
       "    <tr>\n",
       "      <th>294</th>\n",
       "      <td>coffee</td>\n",
       "    </tr>\n",
       "    <tr>\n",
       "      <th>295</th>\n",
       "      <td>orchid</td>\n",
       "    </tr>\n",
       "    <tr>\n",
       "      <th>296</th>\n",
       "      <td>pista</td>\n",
       "    </tr>\n",
       "    <tr>\n",
       "      <th>297</th>\n",
       "      <td>lovender</td>\n",
       "    </tr>\n",
       "  </tbody>\n",
       "</table>\n",
       "<p>298 rows × 1 columns</p>\n",
       "</div>"
      ],
      "text/plain": [
       "      color_name\n",
       "0          Beige\n",
       "1          Black\n",
       "2           Blue\n",
       "3      Blue-gray\n",
       "4    Blue-violet\n",
       "..           ...\n",
       "293         grey\n",
       "294       coffee\n",
       "295       orchid\n",
       "296        pista\n",
       "297     lovender\n",
       "\n",
       "[298 rows x 1 columns]"
      ]
     },
     "execution_count": 33,
     "metadata": {},
     "output_type": "execute_result"
    }
   ],
   "source": [
    "color_df = pd.read_csv(\"Colors.csv\")\n",
    "color_df"
   ]
  },
  {
   "cell_type": "code",
   "execution_count": 43,
   "id": "26e6a07e",
   "metadata": {},
   "outputs": [
    {
     "name": "stderr",
     "output_type": "stream",
     "text": [
      "C:\\Users\\DELL\\AppData\\Local\\Temp\\ipykernel_8200\\156725004.py:4: SettingWithCopyWarning: \n",
      "A value is trying to be set on a copy of a slice from a DataFrame\n",
      "\n",
      "See the caveats in the documentation: https://pandas.pydata.org/pandas-docs/stable/user_guide/indexing.html#returning-a-view-versus-a-copy\n",
      "  df.color.iloc[i] = (\" - \").join(c)\n"
     ]
    }
   ],
   "source": [
    "for i in range(df.shape[0]):\n",
    "    \n",
    "    c = [s for s in df.title_long.iloc[i].split(\" \") if s in color_df.color_name.values]\n",
    "    df.color.iloc[i] = (\" - \").join(c)"
   ]
  },
  {
   "cell_type": "code",
   "execution_count": 44,
   "id": "c9b68ec5",
   "metadata": {},
   "outputs": [
    {
     "data": {
      "text/plain": [
       "0               Green\n",
       "1        White - Blue\n",
       "2         White - Red\n",
       "3                Pink\n",
       "4       Black - White\n",
       "            ...      \n",
       "5115            Black\n",
       "5116                 \n",
       "5117            Black\n",
       "5118            Black\n",
       "5119            Black\n",
       "Name: color, Length: 5120, dtype: object"
      ]
     },
     "execution_count": 44,
     "metadata": {},
     "output_type": "execute_result"
    }
   ],
   "source": [
    "df.color"
   ]
  },
  {
   "cell_type": "code",
   "execution_count": 45,
   "id": "0decb1ee",
   "metadata": {},
   "outputs": [
    {
     "data": {
      "text/plain": [
       "367"
      ]
     },
     "execution_count": 45,
     "metadata": {},
     "output_type": "execute_result"
    }
   ],
   "source": [
    "df.color.nunique()"
   ]
  },
  {
   "cell_type": "code",
   "execution_count": 46,
   "id": "85fc6a15",
   "metadata": {},
   "outputs": [],
   "source": [
    "df.color = df.color.str.lower()"
   ]
  },
  {
   "cell_type": "code",
   "execution_count": 47,
   "id": "2e3f73ee",
   "metadata": {},
   "outputs": [
    {
     "data": {
      "text/plain": [
       "350"
      ]
     },
     "execution_count": 47,
     "metadata": {},
     "output_type": "execute_result"
    }
   ],
   "source": [
    "df.color.nunique()"
   ]
  },
  {
   "cell_type": "code",
   "execution_count": 48,
   "id": "05556b4d",
   "metadata": {},
   "outputs": [
    {
     "data": {
      "text/html": [
       "<div>\n",
       "<style scoped>\n",
       "    .dataframe tbody tr th:only-of-type {\n",
       "        vertical-align: middle;\n",
       "    }\n",
       "\n",
       "    .dataframe tbody tr th {\n",
       "        vertical-align: top;\n",
       "    }\n",
       "\n",
       "    .dataframe thead th {\n",
       "        text-align: right;\n",
       "    }\n",
       "</style>\n",
       "<table border=\"1\" class=\"dataframe\">\n",
       "  <thead>\n",
       "    <tr style=\"text-align: right;\">\n",
       "      <th></th>\n",
       "      <th>variant_id</th>\n",
       "      <th>title_long</th>\n",
       "      <th>product_type</th>\n",
       "      <th>handle</th>\n",
       "      <th>color</th>\n",
       "      <th>store_name</th>\n",
       "    </tr>\n",
       "  </thead>\n",
       "  <tbody>\n",
       "    <tr>\n",
       "      <th>45</th>\n",
       "      <td>10046</td>\n",
       "      <td>Attractive Look SkyBlue Kanjivaram Silk Saree ...</td>\n",
       "      <td>silk saree with blouse</td>\n",
       "      <td>attractive-look-skyblue-kanjivaram-silk-saree-...</td>\n",
       "      <td></td>\n",
       "      <td>Store_A</td>\n",
       "    </tr>\n",
       "    <tr>\n",
       "      <th>174</th>\n",
       "      <td>10175</td>\n",
       "      <td>Chiku Colour  Tassar Silk Weaving Saree With B...</td>\n",
       "      <td>silk saree</td>\n",
       "      <td>copy-of-basil-green-tassar-silk-weaving-saree-...</td>\n",
       "      <td></td>\n",
       "      <td>Store_A</td>\n",
       "    </tr>\n",
       "    <tr>\n",
       "      <th>175</th>\n",
       "      <td>10176</td>\n",
       "      <td>Chiku Linen Silk Saree With Zari Woven Pallu &amp;...</td>\n",
       "      <td>linen silk saree with border and blouse</td>\n",
       "      <td>linen-silk-saree-with-zari-woven-pallu-border-...</td>\n",
       "      <td></td>\n",
       "      <td>Store_A</td>\n",
       "    </tr>\n",
       "    <tr>\n",
       "      <th>186</th>\n",
       "      <td>10187</td>\n",
       "      <td>Cookie Dough Zari Base Handloom Weaving Saree</td>\n",
       "      <td>saree</td>\n",
       "      <td>attractive-cream-zari-base-handloom-weaving-saree</td>\n",
       "      <td></td>\n",
       "      <td>Store_A</td>\n",
       "    </tr>\n",
       "    <tr>\n",
       "      <th>288</th>\n",
       "      <td>10289</td>\n",
       "      <td>Fabulous Rosewood Soft Cotton Silk Patola Saree</td>\n",
       "      <td>cotton silk saree</td>\n",
       "      <td>fabulous-rosewood-soft-cotton-silk-patola-saree</td>\n",
       "      <td></td>\n",
       "      <td>Store_A</td>\n",
       "    </tr>\n",
       "    <tr>\n",
       "      <th>...</th>\n",
       "      <td>...</td>\n",
       "      <td>...</td>\n",
       "      <td>...</td>\n",
       "      <td>...</td>\n",
       "      <td>...</td>\n",
       "      <td>...</td>\n",
       "    </tr>\n",
       "    <tr>\n",
       "      <th>5110</th>\n",
       "      <td>15111</td>\n",
       "      <td>Alciati TTB Tank Top</td>\n",
       "      <td>tank tops</td>\n",
       "      <td>tank-top-alciati-ttb</td>\n",
       "      <td></td>\n",
       "      <td>Store_G</td>\n",
       "    </tr>\n",
       "    <tr>\n",
       "      <th>5111</th>\n",
       "      <td>15112</td>\n",
       "      <td>Alight Tank Top</td>\n",
       "      <td>tank tops</td>\n",
       "      <td>alight-tank-top</td>\n",
       "      <td></td>\n",
       "      <td>Store_G</td>\n",
       "    </tr>\n",
       "    <tr>\n",
       "      <th>5112</th>\n",
       "      <td>15113</td>\n",
       "      <td>Aneau Tank Top</td>\n",
       "      <td>tank tops</td>\n",
       "      <td>tank-top-aneau</td>\n",
       "      <td></td>\n",
       "      <td>Store_G</td>\n",
       "    </tr>\n",
       "    <tr>\n",
       "      <th>5113</th>\n",
       "      <td>15114</td>\n",
       "      <td>Aneau TTB Tank Top</td>\n",
       "      <td>tank tops</td>\n",
       "      <td>tank-top-aneau-ttb</td>\n",
       "      <td></td>\n",
       "      <td>Store_G</td>\n",
       "    </tr>\n",
       "    <tr>\n",
       "      <th>5116</th>\n",
       "      <td>15117</td>\n",
       "      <td>Bhroad Tank Top</td>\n",
       "      <td>tank tops</td>\n",
       "      <td>tank-top-bhroad</td>\n",
       "      <td></td>\n",
       "      <td>Store_G</td>\n",
       "    </tr>\n",
       "  </tbody>\n",
       "</table>\n",
       "<p>2004 rows × 6 columns</p>\n",
       "</div>"
      ],
      "text/plain": [
       "      variant_id                                         title_long  \\\n",
       "45         10046  Attractive Look SkyBlue Kanjivaram Silk Saree ...   \n",
       "174        10175  Chiku Colour  Tassar Silk Weaving Saree With B...   \n",
       "175        10176  Chiku Linen Silk Saree With Zari Woven Pallu &...   \n",
       "186        10187      Cookie Dough Zari Base Handloom Weaving Saree   \n",
       "288        10289    Fabulous Rosewood Soft Cotton Silk Patola Saree   \n",
       "...          ...                                                ...   \n",
       "5110       15111                               Alciati TTB Tank Top   \n",
       "5111       15112                                    Alight Tank Top   \n",
       "5112       15113                                     Aneau Tank Top   \n",
       "5113       15114                                 Aneau TTB Tank Top   \n",
       "5116       15117                                    Bhroad Tank Top   \n",
       "\n",
       "                                 product_type  \\\n",
       "45                     silk saree with blouse   \n",
       "174                                silk saree   \n",
       "175   linen silk saree with border and blouse   \n",
       "186                                     saree   \n",
       "288                         cotton silk saree   \n",
       "...                                       ...   \n",
       "5110                                tank tops   \n",
       "5111                                tank tops   \n",
       "5112                                tank tops   \n",
       "5113                                tank tops   \n",
       "5116                                tank tops   \n",
       "\n",
       "                                                 handle color store_name  \n",
       "45    attractive-look-skyblue-kanjivaram-silk-saree-...          Store_A  \n",
       "174   copy-of-basil-green-tassar-silk-weaving-saree-...          Store_A  \n",
       "175   linen-silk-saree-with-zari-woven-pallu-border-...          Store_A  \n",
       "186   attractive-cream-zari-base-handloom-weaving-saree          Store_A  \n",
       "288     fabulous-rosewood-soft-cotton-silk-patola-saree          Store_A  \n",
       "...                                                 ...   ...        ...  \n",
       "5110                               tank-top-alciati-ttb          Store_G  \n",
       "5111                                    alight-tank-top          Store_G  \n",
       "5112                                     tank-top-aneau          Store_G  \n",
       "5113                                 tank-top-aneau-ttb          Store_G  \n",
       "5116                                    tank-top-bhroad          Store_G  \n",
       "\n",
       "[2004 rows x 6 columns]"
      ]
     },
     "execution_count": 48,
     "metadata": {},
     "output_type": "execute_result"
    }
   ],
   "source": [
    "df[df.color == \"\"]"
   ]
  },
  {
   "cell_type": "code",
   "execution_count": 49,
   "id": "87f31aba",
   "metadata": {},
   "outputs": [],
   "source": [
    "df.color = df.color.replace(\"\", \"other\")"
   ]
  },
  {
   "cell_type": "code",
   "execution_count": 50,
   "id": "97573057",
   "metadata": {},
   "outputs": [
    {
     "data": {
      "text/plain": [
       "0               green\n",
       "1        white - blue\n",
       "2         white - red\n",
       "3                pink\n",
       "4       black - white\n",
       "            ...      \n",
       "5115            black\n",
       "5116            other\n",
       "5117            black\n",
       "5118            black\n",
       "5119            black\n",
       "Name: color, Length: 5120, dtype: object"
      ]
     },
     "execution_count": 50,
     "metadata": {},
     "output_type": "execute_result"
    }
   ],
   "source": [
    "df.color"
   ]
  },
  {
   "cell_type": "code",
   "execution_count": 51,
   "id": "702b1ba4",
   "metadata": {},
   "outputs": [],
   "source": [
    "df.to_csv(\"Output_Data.csv\")"
   ]
  },
  {
   "cell_type": "code",
   "execution_count": null,
   "id": "c215bcd7",
   "metadata": {},
   "outputs": [],
   "source": []
  }
 ],
 "metadata": {
  "kernelspec": {
   "display_name": "Python 3 (ipykernel)",
   "language": "python",
   "name": "python3"
  },
  "language_info": {
   "codemirror_mode": {
    "name": "ipython",
    "version": 3
   },
   "file_extension": ".py",
   "mimetype": "text/x-python",
   "name": "python",
   "nbconvert_exporter": "python",
   "pygments_lexer": "ipython3",
   "version": "3.9.12"
  }
 },
 "nbformat": 4,
 "nbformat_minor": 5
}
